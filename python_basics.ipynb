{
  "nbformat": 4,
  "nbformat_minor": 0,
  "metadata": {
    "colab": {
      "provenance": []
    },
    "kernelspec": {
      "name": "python3",
      "display_name": "Python 3"
    },
    "language_info": {
      "name": "python"
    }
  },
  "cells": [
    {
      "cell_type": "code",
      "execution_count": null,
      "metadata": {
        "colab": {
          "base_uri": "https://localhost:8080/"
        },
        "id": "vOkFiesdXpJK",
        "outputId": "dd3b1d29-73b5-4b6b-87f4-5027ed9ac461"
      },
      "outputs": [
        {
          "output_type": "stream",
          "name": "stdout",
          "text": [
            "Hello, World!\n"
          ]
        }
      ],
      "source": [
        "print(\"Hello, World!\")\n"
      ]
    },
    {
      "cell_type": "code",
      "source": [
        "num1 = float(input(\"Enter the first number: \"))\n",
        "num2 = float(input(\"Enter the second number: \"))\n",
        "result = num1 + num2\n",
        "print(\"Sum:\", result)\n"
      ],
      "metadata": {
        "colab": {
          "base_uri": "https://localhost:8080/"
        },
        "id": "iYHHgl6fXzyG",
        "outputId": "1d890ee3-b2b3-43be-923a-d7d5f6589f7d"
      },
      "execution_count": null,
      "outputs": [
        {
          "output_type": "stream",
          "name": "stdout",
          "text": [
            "Enter the first number: 1\n",
            "Enter the second number: 2\n",
            "Sum: 3.0\n"
          ]
        }
      ]
    },
    {
      "cell_type": "code",
      "source": [
        "num1 = float(input(\"Enter the first number: \"))\n",
        "num2 = float(input(\"Enter the second number: \"))\n",
        "num3 = float(input(\"Enter the third number: \"))\n",
        "max_num = max(num1, num2, num3)\n",
        "print(\"Largest number:\", max_num)\n",
        "7\n"
      ],
      "metadata": {
        "colab": {
          "base_uri": "https://localhost:8080/"
        },
        "id": "u3cFGXBVXz1p",
        "outputId": "88914f25-f186-41ff-8d4e-0d44b8a9a468"
      },
      "execution_count": null,
      "outputs": [
        {
          "output_type": "stream",
          "name": "stdout",
          "text": [
            "Enter the first number: 2\n",
            "Enter the second number: 5\n",
            "Enter the third number: 7\n",
            "Largest number: 7.0\n"
          ]
        }
      ]
    },
    {
      "cell_type": "code",
      "source": [
        "num = int(input(\"Enter a number: \"))\n",
        "if num % 2 == 0:\n",
        "    print(\"Even\")\n",
        "else:\n",
        "    print(\"Odd\")\n"
      ],
      "metadata": {
        "colab": {
          "base_uri": "https://localhost:8080/"
        },
        "id": "XVu74MvtXz85",
        "outputId": "93b3048a-d7ec-4b2c-a448-9377636e4cc0"
      },
      "execution_count": null,
      "outputs": [
        {
          "output_type": "stream",
          "name": "stdout",
          "text": [
            "Enter a number: 6\n",
            "Even\n"
          ]
        }
      ]
    },
    {
      "cell_type": "code",
      "source": [
        "no = int(input(\"Enter a number: \"))\n",
        "factorial = 1\n",
        "for i in range(1, no + 1):\n",
        "    factorial *= i\n",
        "print(\"Factorial:\", factorial)\n"
      ],
      "metadata": {
        "colab": {
          "base_uri": "https://localhost:8080/"
        },
        "id": "WZjYMcpNXz_f",
        "outputId": "1dfcb02e-1d65-4835-b555-5c8342862ce4"
      },
      "execution_count": null,
      "outputs": [
        {
          "output_type": "stream",
          "name": "stdout",
          "text": [
            "Enter a number: 7\n",
            "Factorial: 5040\n"
          ]
        }
      ]
    },
    {
      "cell_type": "code",
      "source": [
        "base = float(input(\"Enter the length of the base: \"))\n",
        "height = float(input(\"Enter the height: \"))\n",
        "area = 0.5 * base * height\n",
        "print(\"Area:\", area)\n"
      ],
      "metadata": {
        "colab": {
          "base_uri": "https://localhost:8080/"
        },
        "id": "N2_GtJO4X0Ew",
        "outputId": "3ecc7d67-df50-489d-b9a5-2d21c52209a3"
      },
      "execution_count": null,
      "outputs": [
        {
          "output_type": "stream",
          "name": "stdout",
          "text": [
            "Enter the length of the base: 6\n",
            "Enter the height: 7\n",
            "Area: 21.0\n"
          ]
        }
      ]
    },
    {
      "cell_type": "code",
      "source": [
        "year = int(input(\"Enter a year: \"))\n",
        "if (year % 4 == 0 and year % 100 != 0) or (year % 400 == 0):\n",
        "    print(\"Leap year\")\n",
        "else:\n",
        "    print(\"Not a leap year\")\n"
      ],
      "metadata": {
        "colab": {
          "base_uri": "https://localhost:8080/"
        },
        "id": "nFwD6H-qX0Fl",
        "outputId": "33d5263e-0332-470f-8cff-dcd42eec0c7b"
      },
      "execution_count": null,
      "outputs": [
        {
          "output_type": "stream",
          "name": "stdout",
          "text": [
            "Enter a year: 2004\n",
            "Leap year\n"
          ]
        }
      ]
    },
    {
      "cell_type": "code",
      "source": [
        "import math\n",
        "ni = float(input(\"Enter a number: \"))\n",
        "sqrt = math.sqrt(ni)\n",
        "print(\"Square root:\", sqrt)\n"
      ],
      "metadata": {
        "colab": {
          "base_uri": "https://localhost:8080/"
        },
        "id": "uoyDfqgdX0I1",
        "outputId": "dc0a0a17-6a86-4d4f-909a-e791d5b61c9f"
      },
      "execution_count": null,
      "outputs": [
        {
          "output_type": "stream",
          "name": "stdout",
          "text": [
            "Enter a number: 78\n",
            "Square root: 8.831760866327848\n"
          ]
        }
      ]
    },
    {
      "cell_type": "code",
      "source": [
        "a = input(\"Enter the first variable: \")\n",
        "b = input(\"Enter the second variable: \")\n",
        "a, b = b, a\n",
        "print(\"Swapped variables: a =\", a, \"b =\", b)\n"
      ],
      "metadata": {
        "colab": {
          "base_uri": "https://localhost:8080/"
        },
        "id": "YPOIt3WLX0MO",
        "outputId": "2d65f060-5825-4b89-9239-3ce258a08b1a"
      },
      "execution_count": null,
      "outputs": [
        {
          "output_type": "stream",
          "name": "stdout",
          "text": [
            "Enter the first variable: 4\n",
            "Enter the second variable: 5\n",
            "Swapped variables: a = 5 b = 4\n"
          ]
        }
      ]
    },
    {
      "cell_type": "code",
      "source": [
        "n = int(input(\"enter num:\"))\n",
        "r = 0\n",
        "for i in range(0,n):\n",
        "  r = r+i\n",
        "print(\"sum of n natural numbers is:\",r)\n"
      ],
      "metadata": {
        "colab": {
          "base_uri": "https://localhost:8080/"
        },
        "id": "rxePlB_VX0PV",
        "outputId": "0a7dafe9-97ef-4a80-8a90-268ee15de174"
      },
      "execution_count": null,
      "outputs": [
        {
          "output_type": "stream",
          "name": "stdout",
          "text": [
            "enter num:9\n",
            "sum of n natural numbers is: 36\n"
          ]
        }
      ]
    },
    {
      "cell_type": "code",
      "source": [
        "nu = float(input(\"Enter a number: \"))\n",
        "if nu > 0:\n",
        "    print(\"Positive\")\n",
        "elif nu < 0:\n",
        "    print(\"Negative\")\n",
        "else:\n",
        "    print(\"Zero\")\n"
      ],
      "metadata": {
        "colab": {
          "base_uri": "https://localhost:8080/"
        },
        "id": "G7ZKwufzX0Sc",
        "outputId": "e300c33d-269f-488d-ec60-cfaa731d6d86"
      },
      "execution_count": null,
      "outputs": [
        {
          "output_type": "stream",
          "name": "stdout",
          "text": [
            "Enter a number: 87\n",
            "Positive\n"
          ]
        }
      ]
    },
    {
      "cell_type": "code",
      "source": [
        "text = input(\"Enter a string: \")\n",
        "vowels = \"AEIOUaeiou\"\n",
        "vowel_count = 0\n",
        "for char in text:\n",
        "    if char in vowels:\n",
        "        vowel_count += 1\n",
        "print(\"Number of vowels:\", vowel_count)\n"
      ],
      "metadata": {
        "colab": {
          "base_uri": "https://localhost:8080/"
        },
        "id": "eGr-5vc3X0Vz",
        "outputId": "82839939-1a25-430b-e1a1-82d003cc1248"
      },
      "execution_count": null,
      "outputs": [
        {
          "output_type": "stream",
          "name": "stdout",
          "text": [
            "Enter a string: aehg\n",
            "Number of vowels: 2\n"
          ]
        }
      ]
    },
    {
      "cell_type": "code",
      "source": [
        "import math\n",
        "num1 = int(input(\"Enter the first number: \"))\n",
        "num2 = int(input(\"Enter the second number: \"))\n",
        "gcd = math.gcd(num1, num2)\n",
        "print(\"GCD:\", gcd)\n"
      ],
      "metadata": {
        "colab": {
          "base_uri": "https://localhost:8080/"
        },
        "id": "b72oRaRmX0Yt",
        "outputId": "ef185ee5-3b02-4e1c-f36e-805fa71acf68"
      },
      "execution_count": null,
      "outputs": [
        {
          "output_type": "stream",
          "name": "stdout",
          "text": [
            "Enter the first number: 6\n",
            "Enter the second number: 9\n",
            "GCD: 3\n"
          ]
        }
      ]
    },
    {
      "cell_type": "code",
      "source": [
        "import random\n",
        "random_num = random.randint(1, 100)\n",
        "print(\"Random number:\", random_num)\n"
      ],
      "metadata": {
        "colab": {
          "base_uri": "https://localhost:8080/"
        },
        "id": "YgwBH-aJbA90",
        "outputId": "6722f1c1-b9f4-4904-eb8f-27c22a312521"
      },
      "execution_count": null,
      "outputs": [
        {
          "output_type": "stream",
          "name": "stdout",
          "text": [
            "Random number: 22\n"
          ]
        }
      ]
    },
    {
      "cell_type": "code",
      "source": [
        "text = input(\"Enter a string: \")\n",
        "reversed_text = text[::-1]\n",
        "print(\"Reversed:\", reversed_text)\n"
      ],
      "metadata": {
        "colab": {
          "base_uri": "https://localhost:8080/"
        },
        "id": "f9rFebRybBA9",
        "outputId": "2e79948e-3e14-4d3e-b14b-93189771da2d"
      },
      "execution_count": null,
      "outputs": [
        {
          "output_type": "stream",
          "name": "stdout",
          "text": [
            "Enter a string: ajay\n",
            "Reversed: yaja\n"
          ]
        }
      ]
    },
    {
      "cell_type": "code",
      "source": [
        "tex = input(\"Enter a string: \")\n",
        "if tex == tex[::-1]:\n",
        "    print(\"Palindrome\")\n",
        "else:\n",
        "    print(\"Not a palindrome\")\n"
      ],
      "metadata": {
        "colab": {
          "base_uri": "https://localhost:8080/"
        },
        "id": "bBczpEuTbQQu",
        "outputId": "efce4bf9-0b8b-4bf5-ca52-77bb890ddcb3"
      },
      "execution_count": null,
      "outputs": [
        {
          "output_type": "stream",
          "name": "stdout",
          "text": [
            "Enter a string: AKKA\n",
            "Palindrome\n"
          ]
        }
      ]
    },
    {
      "cell_type": "code",
      "source": [
        "na = int(input(\"Enter a number: \"))\n",
        "divisors = []\n",
        "for i in range(1, na):\n",
        "    if na % i == 0:\n",
        "        divisors.append(i)\n",
        "\n",
        "if na == sum(divisors):\n",
        "    print(\"Perfect number\")\n",
        "else:\n",
        "    print(\"Not a perfect number\")\n"
      ],
      "metadata": {
        "colab": {
          "base_uri": "https://localhost:8080/"
        },
        "id": "VdnzHeN5bQTx",
        "outputId": "b518bbb9-d0bb-4886-db23-efddd4e65653"
      },
      "execution_count": null,
      "outputs": [
        {
          "output_type": "stream",
          "name": "stdout",
          "text": [
            "Enter a number: 6\n",
            "Perfect number\n"
          ]
        }
      ]
    },
    {
      "cell_type": "code",
      "source": [
        "length = float(input(\"Enter the length: \"))\n",
        "width = float(input(\"Enter the width: \"))\n",
        "area = length * width\n",
        "print(\"Area of the rectangle:\", area)\n"
      ],
      "metadata": {
        "colab": {
          "base_uri": "https://localhost:8080/"
        },
        "id": "9O_XvRpmbQWm",
        "outputId": "126566a5-cc59-4f8e-e572-fa633726f11f"
      },
      "execution_count": null,
      "outputs": [
        {
          "output_type": "stream",
          "name": "stdout",
          "text": [
            "Enter the length: 5\n",
            "Enter the width: 6\n",
            "Area of the rectangle: 30.0\n"
          ]
        }
      ]
    },
    {
      "cell_type": "code",
      "source": [
        "side_length = float(input(\"Enter the side length of the cube: \"))\n",
        "volume = side_length ** 3\n",
        "print(\"Volume of the cube:\", volume)\n"
      ],
      "metadata": {
        "colab": {
          "base_uri": "https://localhost:8080/"
        },
        "id": "mzdvEmL5bQZs",
        "outputId": "7b6559c4-f718-4348-e8c9-64bb516ede80"
      },
      "execution_count": null,
      "outputs": [
        {
          "output_type": "stream",
          "name": "stdout",
          "text": [
            "Enter the side length of the cube: 4\n",
            "Volume of the cube: 64.0\n"
          ]
        }
      ]
    },
    {
      "cell_type": "code",
      "source": [
        "no = int(input(\"Enter a number: \"))\n",
        "sum_of_digits = 0\n",
        "while no > 0:\n",
        "    digit = no % 10\n",
        "    sum_of_digits += digit\n",
        "    no //= 10\n",
        "print(\"Sum of digits:\", sum_of_digits)\n"
      ],
      "metadata": {
        "colab": {
          "base_uri": "https://localhost:8080/"
        },
        "id": "hvP2BK9wbBD1",
        "outputId": "2434f5ad-fa70-46bb-d298-71ffa3ca84f9"
      },
      "execution_count": null,
      "outputs": [
        {
          "output_type": "stream",
          "name": "stdout",
          "text": [
            "Enter a number: 6\n",
            "Sum of digits: 6\n"
          ]
        }
      ]
    },
    {
      "cell_type": "code",
      "source": [
        "import math\n",
        "nu1 = int(input(\"Enter the first number: \"))\n",
        "nu2 = int(input(\"Enter the second number: \"))\n",
        "lcm = (nu1 * nu2) // math.gcd(nu1, nu2)\n",
        "print(\"LCM:\", lcm)\n"
      ],
      "metadata": {
        "colab": {
          "base_uri": "https://localhost:8080/"
        },
        "id": "NdoTJWLzX0bb",
        "outputId": "83e6db70-b8ee-4331-9d38-ff5a04487c96"
      },
      "execution_count": null,
      "outputs": [
        {
          "output_type": "stream",
          "name": "stdout",
          "text": [
            "Enter the first number: 6\n",
            "Enter the second number: 8\n",
            "LCM: 24\n"
          ]
        }
      ]
    },
    {
      "cell_type": "code",
      "source": [
        "num = int(input(\"Enter a number: \"))\n",
        "square = num * num\n",
        "num_str = str(num)\n",
        "square_str = str(square)\n",
        "\n",
        "if square_str.endswith(num_str):\n",
        "    print(num, \"is an automorphic number.\")\n",
        "else:\n",
        "    print(num, \"is not an automorphic number.\")\n"
      ],
      "metadata": {
        "colab": {
          "base_uri": "https://localhost:8080/"
        },
        "id": "QAZ181TBioWo",
        "outputId": "8dddd7a2-4d5e-4c56-9091-eb75a0790a14"
      },
      "execution_count": null,
      "outputs": [
        {
          "output_type": "stream",
          "name": "stdout",
          "text": [
            "Enter a number: 5\n",
            "5 is an automorphic number.\n"
          ]
        }
      ]
    },
    {
      "cell_type": "code",
      "source": [
        "numbers = [10, 20, 30, 40, 50]\n",
        "total = sum(numbers)\n",
        "print(\"Sum of list elements:\", total)\n"
      ],
      "metadata": {
        "colab": {
          "base_uri": "https://localhost:8080/"
        },
        "id": "BwamnTFDioZz",
        "outputId": "d178766b-ac78-42b2-dc45-689f29e7238f"
      },
      "execution_count": null,
      "outputs": [
        {
          "output_type": "stream",
          "name": "stdout",
          "text": [
            "Sum of list elements: 150\n"
          ]
        }
      ]
    },
    {
      "cell_type": "code",
      "source": [
        "original_list = [1, 2, 3, 4, 5]\n",
        "reversed_list = original_list[::-1]\n",
        "print(\"Reversed list:\", reversed_list)\n"
      ],
      "metadata": {
        "colab": {
          "base_uri": "https://localhost:8080/"
        },
        "id": "CaVWUCN7iocp",
        "outputId": "3eebbaeb-5943-451f-ba4f-26c0eff159c9"
      },
      "execution_count": null,
      "outputs": [
        {
          "output_type": "stream",
          "name": "stdout",
          "text": [
            "Reversed list: [5, 4, 3, 2, 1]\n"
          ]
        }
      ]
    },
    {
      "cell_type": "code",
      "source": [
        "numbers = [15, 30, 10, 45, 20]\n",
        "max_value = max(numbers)\n",
        "print(\"Maximum value:\", max_value)\n"
      ],
      "metadata": {
        "colab": {
          "base_uri": "https://localhost:8080/"
        },
        "id": "PT5cZ9AFiooQ",
        "outputId": "0a978f1c-f222-4a49-b774-c8e4e6d8995e"
      },
      "execution_count": null,
      "outputs": [
        {
          "output_type": "stream",
          "name": "stdout",
          "text": [
            "Maximum value: 45\n"
          ]
        }
      ]
    },
    {
      "cell_type": "code",
      "source": [
        "my_tuple = (1, 2, 3, 2, 4, 2, 5)\n",
        "count = my_tuple.count(2)\n",
        "print(\"Number of 2s in the tuple:\", count)\n"
      ],
      "metadata": {
        "colab": {
          "base_uri": "https://localhost:8080/"
        },
        "id": "DQnGEEVEiorx",
        "outputId": "8b5ef854-03db-45c3-b84a-25b738a5e8c5"
      },
      "execution_count": null,
      "outputs": [
        {
          "output_type": "stream",
          "name": "stdout",
          "text": [
            "Number of 2s in the tuple: 3\n"
          ]
        }
      ]
    },
    {
      "cell_type": "code",
      "source": [
        "student = {\"name\": \"Alice\", \"age\": 25, \"grade\": \"A\"}\n",
        "student[\"score\"] = 95\n",
        "student[\"age\"] = 26\n",
        "print(\"Updated dictionary:\", student)\n"
      ],
      "metadata": {
        "colab": {
          "base_uri": "https://localhost:8080/"
        },
        "id": "pVKI7yHrltER",
        "outputId": "f3f741b6-c28d-45f2-ac5b-d0e23e34c8a7"
      },
      "execution_count": null,
      "outputs": [
        {
          "output_type": "stream",
          "name": "stdout",
          "text": [
            "Updated dictionary: {'name': 'Alice', 'age': 26, 'grade': 'A', 'score': 95}\n"
          ]
        }
      ]
    },
    {
      "cell_type": "code",
      "source": [
        "numbers = [1, 2, 3, 4, 5]\n",
        "squares = [x ** 2 for x in numbers]\n",
        "print(\"Squares:\", squares)\n"
      ],
      "metadata": {
        "colab": {
          "base_uri": "https://localhost:8080/"
        },
        "id": "9LrsGW8lltHo",
        "outputId": "8217117a-fc6f-4bca-fdca-4bf6a48937c3"
      },
      "execution_count": null,
      "outputs": [
        {
          "output_type": "stream",
          "name": "stdout",
          "text": [
            "Squares: [1, 4, 9, 16, 25]\n"
          ]
        }
      ]
    },
    {
      "cell_type": "code",
      "source": [
        "unsorted_tuple = (3, 1, 4, 2, 5)\n",
        "sorted_tuple = tuple(sorted(unsorted_tuple))\n",
        "print(\"Sorted tuple:\", sorted_tuple)\n"
      ],
      "metadata": {
        "colab": {
          "base_uri": "https://localhost:8080/"
        },
        "id": "DbQ2YEd5ltKe",
        "outputId": "3e425bdb-9ba1-45ea-d1ad-6ee5331766cd"
      },
      "execution_count": null,
      "outputs": [
        {
          "output_type": "stream",
          "name": "stdout",
          "text": [
            "Sorted tuple: (1, 2, 3, 4, 5)\n"
          ]
        }
      ]
    },
    {
      "cell_type": "code",
      "source": [
        "tuple1 = (1, 2, 3, 4)\n",
        "tuple2 = (3, 4, 5, 6)\n",
        "intersection = tuple(x for x in tuple1 if x in tuple2)\n",
        "print(\"Intersection:\", intersection)\n"
      ],
      "metadata": {
        "colab": {
          "base_uri": "https://localhost:8080/"
        },
        "id": "4EWuiBteltMZ",
        "outputId": "0dfe1ed4-8bb5-42c5-d903-8e3a7e26dc16"
      },
      "execution_count": null,
      "outputs": [
        {
          "output_type": "stream",
          "name": "stdout",
          "text": [
            "Intersection: (3, 4)\n"
          ]
        }
      ]
    },
    {
      "cell_type": "code",
      "source": [
        "str1 = input(\"Enter the first string: \")\n",
        "str2 = input(\"Enter the second string: \")\n",
        "is_anagram = sorted(str1) == sorted(str2)\n",
        "if is_anagram:\n",
        "    print(\"Anagrams\")\n",
        "else:\n",
        "    print(\"Not anagrams\")\n"
      ],
      "metadata": {
        "colab": {
          "base_uri": "https://localhost:8080/"
        },
        "id": "t8MKcNyyltPP",
        "outputId": "d610295d-2c06-4bb1-8026-2ce17901692a"
      },
      "execution_count": null,
      "outputs": [
        {
          "output_type": "stream",
          "name": "stdout",
          "text": [
            "Enter the first string: trg\n",
            "Enter the second string: yhg\n",
            "Not anagrams\n"
          ]
        }
      ]
    },
    {
      "cell_type": "code",
      "source": [
        "numbers = [10, 20, 5, 40, 30]\n",
        "sorted_numbers = sorted(set(numbers))\n",
        "if len(sorted_numbers) < 2:\n",
        "    print(\"No second largest element\")\n",
        "else:\n",
        "    print(\"Second largest element:\", sorted_numbers[-2])\n"
      ],
      "metadata": {
        "colab": {
          "base_uri": "https://localhost:8080/"
        },
        "id": "nfbPwmuAiovG",
        "outputId": "cb9d1740-2ad6-4f1c-cad3-784ef15b745f"
      },
      "execution_count": null,
      "outputs": [
        {
          "output_type": "stream",
          "name": "stdout",
          "text": [
            "Second largest element: 30\n"
          ]
        }
      ]
    },
    {
      "cell_type": "code",
      "source": [
        "numbers = [1, 2, 3, 4, 5, 6, 7, 8, 9, 10]\n",
        "even_numbers = [x for x in numbers if x % 2 == 0]\n",
        "print(\"Even numbers:\", even_numbers)\n"
      ],
      "metadata": {
        "colab": {
          "base_uri": "https://localhost:8080/"
        },
        "id": "b2wHYWJTojT4",
        "outputId": "c9704ba5-07c5-435b-ca5a-205c04f8d114"
      },
      "execution_count": null,
      "outputs": [
        {
          "output_type": "stream",
          "name": "stdout",
          "text": [
            "Even numbers: [2, 4, 6, 8, 10]\n"
          ]
        }
      ]
    },
    {
      "cell_type": "code",
      "source": [
        "employee = {\"name\": \"Sarah\", \"position\": \"Manager\"}\n",
        "if \"salary\" in employee:\n",
        "    print(\"Salary:\", employee[\"salary\"])\n",
        "else:\n",
        "    print(\"Salary not found.\")\n"
      ],
      "metadata": {
        "colab": {
          "base_uri": "https://localhost:8080/"
        },
        "id": "PPNbqiyUojW_",
        "outputId": "5309ecb3-4a5b-4654-dc8e-f62729fb75b7"
      },
      "execution_count": null,
      "outputs": [
        {
          "output_type": "stream",
          "name": "stdout",
          "text": [
            "Salary not found.\n"
          ]
        }
      ]
    },
    {
      "cell_type": "code",
      "source": [
        "num1 = float(input(\"Enter the first number: \"))\n",
        "operator = input(\"Enter the operator (+, -, *, /): \")\n",
        "num2 = float(input(\"Enter the second number: \"))\n",
        "\n",
        "if operator == '+':\n",
        "    result = num1 + num2\n",
        "elif operator == '-':\n",
        "    result = num1 - num2\n",
        "elif operator == '*':\n",
        "    result = num1 * num2\n",
        "elif operator == '/':\n",
        "    result = num1 / num2\n",
        "else:\n",
        "    result = \"Invalid operator\"\n",
        "\n",
        "print(\"Result:\", result)\n"
      ],
      "metadata": {
        "colab": {
          "base_uri": "https://localhost:8080/"
        },
        "id": "1y-d5Tk5ojZq",
        "outputId": "8ceb2106-3bc9-4072-e686-af2e54cabc75"
      },
      "execution_count": null,
      "outputs": [
        {
          "output_type": "stream",
          "name": "stdout",
          "text": [
            "Enter the first number: 4\n",
            "Enter the operator (+, -, *, /): -\n",
            "Enter the second number: 6\n",
            "Result: -2.0\n"
          ]
        }
      ]
    },
    {
      "cell_type": "code",
      "source": [
        "tt = input(\"Enter some text: \")\n",
        "word_count = len(tt.split())\n",
        "character_count = len(tt)\n",
        "\n",
        "print(f\"Word count: {word_count}\")\n",
        "print(f\"Character count: {character_count}\")\n"
      ],
      "metadata": {
        "colab": {
          "base_uri": "https://localhost:8080/"
        },
        "id": "MNopKtbNojcW",
        "outputId": "50a5828a-53a4-4a6e-d688-b7f30ba8b69c"
      },
      "execution_count": null,
      "outputs": [
        {
          "output_type": "stream",
          "name": "stdout",
          "text": [
            "Enter some text: ythj\n",
            "Word count: 1\n",
            "Character count: 4\n"
          ]
        }
      ]
    },
    {
      "cell_type": "code",
      "source": [],
      "metadata": {
        "id": "gX-oWTKMojfE"
      },
      "execution_count": null,
      "outputs": []
    }
  ]
}